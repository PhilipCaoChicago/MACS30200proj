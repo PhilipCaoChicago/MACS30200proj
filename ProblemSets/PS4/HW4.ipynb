{
 "cells": [
  {
   "cell_type": "code",
   "execution_count": 1,
   "metadata": {},
   "outputs": [],
   "source": [
    "import scipy.stats as sts\n",
    "import numpy as np\n",
    "import matplotlib.pyplot as plt\n",
    "import seaborn\n",
    "import numpy.linalg as LA\n",
    "seaborn.set()"
   ]
  },
  {
   "cell_type": "markdown",
   "metadata": {},
   "source": [
    "## Discret Approximation of an AR(1) process\n",
    "Assume that a random variable evolves according to the following continous AR(1) process.<br>\n",
    "\\begin{equation}\\tag{1}\n",
    "z_{t+1} = \\rho z_t + (1-\\rho) \\mu + \\varepsilon_t \\  s.t. \\rho \\in (-1,1), \\varepsilon_t \\sim N(0, \\delta) \n",
    "\\end{equation}\n",
    "where $\\rho$ governs the persistence of the process, and $\\mu$ is the long-run average of $z_{t}$, and $\\delta$ is the standard deviation of the normally distributed terms. Assume that $\\rho =0.85, \\mu= 11.4, \\delta =0.7$ <br>\n",
    "### (a) Assume that $z_0 =\\mu$. Simulate a time series of 500 period of $\\{z_t\\}_{t=1}^T$ using equation (1)\n"
   ]
  },
  {
   "cell_type": "code",
   "execution_count": 2,
   "metadata": {},
   "outputs": [],
   "source": [
    "T = 500\n",
    "sigma = 0.7\n",
    "mu= 11.4\n",
    "rho = 0.85\n",
    "unif_vec = sts.uniform.rvs(loc=0, scale=1, size=T, random_state=25)\n",
    "eps_vec = sts.norm.ppf(unif_vec, loc=0, scale=sigma)"
   ]
  },
  {
   "cell_type": "code",
   "execution_count": 3,
   "metadata": {},
   "outputs": [],
   "source": [
    "# Simulate 500 of zt\n",
    "z = np.zeros(T)\n",
    "for i in range(T):\n",
    "    if i == 0:\n",
    "        z[i] = rho\n",
    "    else:\n",
    "        z[i] = rho * z[i-1] + (1- rho) * mu + eps_vec[i]"
   ]
  },
  {
   "cell_type": "code",
   "execution_count": 4,
   "metadata": {},
   "outputs": [
    {
     "data": {
      "image/png": "[encoded data removed]",
      "text/plain": [
       "<Figure size 432x288 with 1 Axes>"
      ]
     },
     "metadata": {},
     "output_type": "display_data"
    }
   ],
   "source": [
    "plt.plot(z[:100])\n",
    "plt.title(\"Plot First 100 observations of resulting simulated time series of $z_t$\")\n",
    "plt.ylabel(\"Time series of $z_t$\")\n",
    "plt.xlabel(\"Period t\")\n",
    "plt.show()"
   ]
  },
  {
   "cell_type": "markdown",
   "metadata": {},
   "source": [
    "### (b) Creat a 5-element vector called z_vals that represents a discretized version of all values that zt can take on\n",
    "### and z_vals be 5 evenly spaced point between mu - 3 delta, and mu + 3 delta"
   ]
  },
  {
   "cell_type": "code",
   "execution_count": 5,
   "metadata": {},
   "outputs": [
    {
     "data": {
      "text/plain": [
       "array([ 9.3 , 10.35, 11.4 , 12.45, 13.5 ])"
      ]
     },
     "execution_count": 5,
     "metadata": {},
     "output_type": "execute_result"
    }
   ],
   "source": [
    "lower = mu - 3*sigma\n",
    "upper = mu + 3*sigma\n",
    "z_vals = np.array([lower, lower + 1.5 * sigma, mu, mu + 1.5 * sigma, upper])\n",
    "z_vals"
   ]
  },
  {
   "cell_type": "markdown",
   "metadata": {},
   "source": [
    "### (c) Estimate the probabilities of a 5 \\times 5 Markow transition matrix $\\hat{P}$ in the following way. Think of that values in the z_vals vector "
   ]
  },
  {
   "cell_type": "code",
   "execution_count": 6,
   "metadata": {},
   "outputs": [
    {
     "data": {
      "text/plain": [
       "array([ 9.825, 10.875, 11.925, 12.975])"
      ]
     },
     "execution_count": 6,
     "metadata": {},
     "output_type": "execute_result"
    }
   ],
   "source": [
    "z_cuts = 0.5 * z_vals[:-1] + 0.5 * z_vals[1:]\n",
    "z_cuts"
   ]
  },
  {
   "cell_type": "code",
   "execution_count": 7,
   "metadata": {},
   "outputs": [],
   "source": [
    "bins = np.digitize(z, z_cuts)\n",
    "P_matrix = np.zeros(shape=(5,5))"
   ]
  },
  {
   "cell_type": "code",
   "execution_count": 8,
   "metadata": {},
   "outputs": [],
   "source": [
    "for i in range(0,5):\n",
    "    for j in range(0,5):\n",
    "        count = 0\n",
    "        total = 0\n",
    "        for k in range(0,499):\n",
    "            current = bins[k]\n",
    "            nxt = bins[k+1]\n",
    "            if current == i and nxt == j:\n",
    "                count += 1\n",
    "            if current == i:\n",
    "                total += 1\n",
    "        P_matrix[i][j] = count/total"
   ]
  },
  {
   "cell_type": "code",
   "execution_count": 9,
   "metadata": {},
   "outputs": [
    {
     "data": {
      "text/plain": [
       "array([[0.75757576, 0.21212121, 0.03030303, 0.        , 0.        ],\n",
       "       [0.09821429, 0.51785714, 0.33928571, 0.04464286, 0.        ],\n",
       "       [0.03184713, 0.22292994, 0.47770701, 0.23566879, 0.03184713],\n",
       "       [0.        , 0.04273504, 0.34188034, 0.5042735 , 0.11111111],\n",
       "       [0.        , 0.        , 0.04255319, 0.34042553, 0.61702128]])"
      ]
     },
     "execution_count": 9,
     "metadata": {},
     "output_type": "execute_result"
    }
   ],
   "source": [
    "P_matrix"
   ]
  },
  {
   "cell_type": "markdown",
   "metadata": {},
   "source": [
    "### (d) According to your estimated Markov transition matrix $\\hat{P}$, what is the probability $z_{t+3}$ being in bin 5 given $z_t$ in bin 3 today?"
   ]
  },
  {
   "cell_type": "code",
   "execution_count": 10,
   "metadata": {},
   "outputs": [
    {
     "name": "stdout",
     "output_type": "stream",
     "text": [
      "Probability of going from state 3 to state 5 over 2 steps is [0.07800906]\n"
     ]
    }
   ],
   "source": [
    "init_state = np.array([0,0,1,0,0]).reshape(5,1)\n",
    "prob_two_steps = LA.matrix_power(P_matrix.T,3) @ init_state\n",
    "print('Probability of going from state 3 to state 5 over 2 steps is', prob_two_steps[4])"
   ]
  },
  {
   "cell_type": "markdown",
   "metadata": {},
   "source": [
    "### (e) According to your estimated Markov transition matrix $\\hat{P}$, what is the stationary distribution of $z_t$"
   ]
  },
  {
   "cell_type": "code",
   "execution_count": 11,
   "metadata": {},
   "outputs": [
    {
     "name": "stdout",
     "output_type": "stream",
     "text": [
      "Analytical Solution of the distribution should converge to [0.10863411 1.         0.36552089 0.79420747 0.60607221]\n"
     ]
    }
   ],
   "source": [
    "eigvals, eigvecmat = LA.eig(P_matrix.T)\n",
    "print('Analytical Solution of the distribution should converge to',eigvals)"
   ]
  },
  {
   "cell_type": "markdown",
   "metadata": {},
   "source": [
    "### the eigenvector associated with $\\lambda = 1$"
   ]
  },
  {
   "cell_type": "code",
   "execution_count": 12,
   "metadata": {},
   "outputs": [
    {
     "data": {
      "text/plain": [
       "array([0.13226453, 0.2244489 , 0.31462926, 0.23446894, 0.09418838])"
      ]
     },
     "execution_count": 12,
     "metadata": {},
     "output_type": "execute_result"
    }
   ],
   "source": [
    "eigvec = eigvecmat[:, 1] / eigvecmat[:, 1].sum()\n",
    "eigvec"
   ]
  },
  {
   "cell_type": "markdown",
   "metadata": {},
   "source": [
    "### Calculate the value through iterations"
   ]
  },
  {
   "cell_type": "code",
   "execution_count": 17,
   "metadata": {},
   "outputs": [],
   "source": [
    "current_state = np.array([0, 0, 1, 0, 0]).reshape(5,1)\n",
    "tolerance = 1e-10\n",
    "difference = 1\n",
    "\n",
    "while change > tolerance:\n",
    "    next_state = P_matrix.T @ cur_state \n",
    "    difference = LA.norm(next_state - cur_state)\n",
    "    cur_state = next_state"
   ]
  },
  {
   "cell_type": "code",
   "execution_count": 18,
   "metadata": {},
   "outputs": [
    {
     "name": "stdout",
     "output_type": "stream",
     "text": [
      "The iteration result of state distribution converges to: \n",
      "[[0.13226453]\n",
      " [0.2244489 ]\n",
      " [0.31462926]\n",
      " [0.23446894]\n",
      " [0.09418838]]\n"
     ]
    }
   ],
   "source": [
    "print(\"The iteration result of state distribution converges to: \\n\" + str(next_state))"
   ]
  },
  {
   "cell_type": "markdown",
   "metadata": {},
   "source": [
    "### (f) Use the vector of T uniformly distributed variables in unif_vec from part (a) to simulate T values of discretized version of $z_t \\in$ z_val using the estimated transition matrix $\\hat{P}$ and initial value $z_0 = $ z_vals using the transition matrix $\\hat{P}$ and initial value $z_o = $ z_vals[2]."
   ]
  },
  {
   "cell_type": "code",
   "execution_count": 15,
   "metadata": {},
   "outputs": [],
   "source": [
    "z_vec = np.zeros(T)\n",
    "z_t = z_vals[2]\n",
    "zt_ind = 1\n",
    "for t_ind in range(T):\n",
    "    ztp1_ind = np.argwhere(unif_vec[t_ind] <= np.cumsum(P_matrix[zt_ind, :])).min()\n",
    "    z_tp1 = z_vals[ztp1_ind]\n",
    "    z_vec[t_ind] = z_tp1\n",
    "    z_t = z_tp1\n",
    "    zt_ind = ztp1_ind"
   ]
  },
  {
   "cell_type": "code",
   "execution_count": 16,
   "metadata": {},
   "outputs": [
    {
     "data": {
      "image/png": "[encoded data removed]",
      "text/plain": [
       "<Figure size 432x288 with 1 Axes>"
      ]
     },
     "metadata": {},
     "output_type": "display_data"
    }
   ],
   "source": [
    "plt.plot(z_vec)\n",
    "plt.plot(z)\n",
    "plt.title('Simulated Markov process vs Generated AR(1) process')\n",
    "plt.xlabel('Period t')\n",
    "plt.ylabel(\"Time series of $z_t$\")\n",
    "plt.legend(['Simulated Markov Process in (f)', 'Generated AR(1) Series in (a)'])\n",
    "plt.show()"
   ]
  }
 ],
 "metadata": {
  "kernelspec": {
   "display_name": "Python 3",
   "language": "python",
   "name": "python3"
  },
  "language_info": {
   "codemirror_mode": {
    "name": "ipython",
    "version": 3
   },
   "file_extension": ".py",
   "mimetype": "text/x-python",
   "name": "python",
   "nbconvert_exporter": "python",
   "pygments_lexer": "ipython3",
   "version": "3.6.4"
  }
 },
 "nbformat": 4,
 "nbformat_minor": 2
}
